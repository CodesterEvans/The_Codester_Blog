{
 "cells": [
  {
   "cell_type": "markdown",
   "id": "competitive-rebound",
   "metadata": {},
   "source": [
    "How to do avoid the beginner pitfalls and complete the Fast AI Bear Classification Project"
   ]
  },
  {
   "cell_type": "markdown",
   "id": "asian-poker",
   "metadata": {},
   "source": [
    "This blog is for people who:\n",
    "\n",
    "1) Are searching for help on how to complete the project (go figure)\n",
    "2) Don't understand how to set up \"environments\" to import \"external libraries\"\n",
    "3) \n",
    "    \n",
    "    "
   ]
  }
 ],
 "metadata": {
  "kernelspec": {
   "display_name": "Python 3",
   "language": "python",
   "name": "python3"
  },
  "language_info": {
   "codemirror_mode": {
    "name": "ipython",
    "version": 3
   },
   "file_extension": ".py",
   "mimetype": "text/x-python",
   "name": "python",
   "nbconvert_exporter": "python",
   "pygments_lexer": "ipython3",
   "version": "3.8.8"
  }
 },
 "nbformat": 4,
 "nbformat_minor": 5
}
